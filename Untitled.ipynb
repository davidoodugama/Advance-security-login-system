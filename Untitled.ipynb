{
 "cells": [
  {
   "cell_type": "code",
   "execution_count": 1,
   "id": "df6d66ef",
   "metadata": {},
   "outputs": [],
   "source": [
    "import cv2 as cv\n",
    "import numpy as np\n",
    "import face_recognition\n",
    "# cap = cv.VideoCapture(0)"
   ]
  },
  {
   "cell_type": "code",
   "execution_count": 10,
   "id": "2ef0710e",
   "metadata": {},
   "outputs": [
    {
     "name": "stdout",
     "output_type": "stream",
     "text": [
      "(118, 489, 341, 266)\n"
     ]
    },
    {
     "data": {
      "text/plain": [
       "-1"
      ]
     },
     "execution_count": 10,
     "metadata": {},
     "output_type": "execute_result"
    }
   ],
   "source": [
    "imgDav = face_recognition.load_image_file('images/dav3.jpg')\n",
    "imgDav = cv.cvtColor(imgDav, cv.COLOR_BGR2RGB)\n",
    "# imgDav = cv.resize(imgDav, (500,500), interpolation = cv.INTER_AREA)\n",
    "\n",
    "imgDav_test = face_recognition.load_image_file('images/test.jpg')\n",
    "imgDav_test = cv.cvtColor(imgDav_test, cv.COLOR_BGR2RGB)\n",
    "imgDav_test = cv.resize(imgDav_test, (500,500), interpolation = cv.INTER_AREA)\n",
    "\n",
    "faceLoc = face_recognition.face_locations(imgDav)[0]\n",
    "encodeDav = face_recognition.face_encodings(imgDav)[0]\n",
    "print(faceLoc)\n",
    "# cv.rectangle(imgDav, (faceLoc[3], faceLoc[0]), (faceLoc[1], faceLoc[2]),(255,0,255),2)\n",
    "cv.imshow(\"imgDav\", imgDav)\n",
    "cv.imshow(\"imgDav_test\", imgDav_test)\n",
    "cv.waitKey(0)"
   ]
  },
  {
   "cell_type": "code",
   "execution_count": 2,
   "id": "8a4dc174",
   "metadata": {},
   "outputs": [
    {
     "ename": "SyntaxError",
     "evalue": "invalid syntax (1025058747.py, line 3)",
     "output_type": "error",
     "traceback": [
      "\u001b[1;36m  File \u001b[1;32m\"C:\\Users\\david\\AppData\\Local\\Temp\\ipykernel_12624\\1025058747.py\"\u001b[1;36m, line \u001b[1;32m3\u001b[0m\n\u001b[1;33m    frame =\u001b[0m\n\u001b[1;37m            ^\u001b[0m\n\u001b[1;31mSyntaxError\u001b[0m\u001b[1;31m:\u001b[0m invalid syntax\n"
     ]
    }
   ],
   "source": [
    "while True:\n",
    "    ret, frame = cap.read()\n",
    "    frame = \n",
    "    cv.imshow(\"frame\", frame)\n",
    "    \n",
    "    if cv.waitKey(1) & 0xFF == ord('q'):\n",
    "        break\n",
    "cap.release()\n",
    "cv.destroyAllWindows()"
   ]
  },
  {
   "cell_type": "code",
   "execution_count": null,
   "id": "7cdaaf14",
   "metadata": {},
   "outputs": [],
   "source": []
  }
 ],
 "metadata": {
  "kernelspec": {
   "display_name": "secure",
   "language": "python",
   "name": "secure"
  },
  "language_info": {
   "codemirror_mode": {
    "name": "ipython",
    "version": 3
   },
   "file_extension": ".py",
   "mimetype": "text/x-python",
   "name": "python",
   "nbconvert_exporter": "python",
   "pygments_lexer": "ipython3",
   "version": "3.7.9"
  }
 },
 "nbformat": 4,
 "nbformat_minor": 5
}
